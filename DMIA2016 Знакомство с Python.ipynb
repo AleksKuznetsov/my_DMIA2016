{
 "cells": [
  {
   "cell_type": "markdown",
   "metadata": {},
   "source": [
    "Fizzbuzz question"
   ]
  },
  {
   "cell_type": "code",
   "execution_count": 5,
   "metadata": {
    "collapsed": false
   },
   "outputs": [
    {
     "name": "stdout",
     "output_type": "stream",
     "text": [
      "1\n",
      "2\n",
      "Fizz\n",
      "4\n",
      "Buzz\n",
      "Fizz\n",
      "7\n",
      "8\n",
      "Fizz\n",
      "Buzz\n",
      "11\n",
      "Fizz\n",
      "13\n",
      "14\n",
      "FizzBuzz\n",
      "16\n",
      "17\n",
      "Fizz\n",
      "19\n",
      "Buzz\n",
      "Fizz\n",
      "22\n",
      "23\n",
      "Fizz\n",
      "Buzz\n",
      "26\n",
      "Fizz\n",
      "28\n",
      "29\n",
      "FizzBuzz\n",
      "31\n",
      "32\n",
      "Fizz\n",
      "34\n",
      "Buzz\n",
      "Fizz\n",
      "37\n",
      "38\n",
      "Fizz\n",
      "Buzz\n",
      "41\n",
      "Fizz\n",
      "43\n",
      "44\n",
      "FizzBuzz\n",
      "46\n",
      "47\n",
      "Fizz\n",
      "49\n",
      "Buzz\n",
      "Fizz\n",
      "52\n",
      "53\n",
      "Fizz\n",
      "Buzz\n",
      "56\n",
      "Fizz\n",
      "58\n",
      "59\n",
      "FizzBuzz\n",
      "61\n",
      "62\n",
      "Fizz\n",
      "64\n",
      "Buzz\n",
      "Fizz\n",
      "67\n",
      "68\n",
      "Fizz\n",
      "Buzz\n",
      "71\n",
      "Fizz\n",
      "73\n",
      "74\n",
      "FizzBuzz\n",
      "76\n",
      "77\n",
      "Fizz\n",
      "79\n",
      "Buzz\n",
      "Fizz\n",
      "82\n",
      "83\n",
      "Fizz\n",
      "Buzz\n",
      "86\n",
      "Fizz\n",
      "88\n",
      "89\n",
      "FizzBuzz\n",
      "91\n",
      "92\n",
      "Fizz\n",
      "94\n",
      "Buzz\n",
      "Fizz\n",
      "97\n",
      "98\n",
      "Fizz\n",
      "Buzz\n"
     ]
    }
   ],
   "source": [
    "for i in xrange(1,101):\n",
    "    if i%3 == 0 and i%5 == 0:\n",
    "        print 'FizzBuzz'\n",
    "    elif i%3 == 0:\n",
    "        print 'Fizz'\n",
    "    elif i%5 == 0:\n",
    "        print 'Buzz'\n",
    "    else:\n",
    "        print i"
   ]
  },
  {
   "cell_type": "markdown",
   "metadata": {},
   "source": [
    "Fibo number"
   ]
  },
  {
   "cell_type": "code",
   "execution_count": 70,
   "metadata": {
    "collapsed": true
   },
   "outputs": [],
   "source": [
    "def fibo(n):\n",
    "    if n == 0 or n == 1:\n",
    "        return 1\n",
    "    else:\n",
    "        return fibo(n-1) + fibo(n-2)"
   ]
  },
  {
   "cell_type": "code",
   "execution_count": 73,
   "metadata": {
    "collapsed": false
   },
   "outputs": [
    {
     "name": "stdout",
     "output_type": "stream",
     "text": [
      "3928413830181574692530\n"
     ]
    }
   ],
   "source": [
    "fibo20 = fibo(20)\n",
    "fibo100 = 25*fibo20**5 + 25*fibo20**3 + 5*fibo20\n",
    "print fibo100"
   ]
  },
  {
   "cell_type": "markdown",
   "metadata": {},
   "source": [
    "quicksort"
   ]
  },
  {
   "cell_type": "code",
   "execution_count": 49,
   "metadata": {
    "collapsed": false
   },
   "outputs": [
    {
     "name": "stdout",
     "output_type": "stream",
     "text": [
      "[1, 2, 3, 4, 5, 6]\n"
     ]
    }
   ],
   "source": [
    "def qs(a):\n",
    "    left = []\n",
    "    right = []\n",
    "    if len(a) == 0 or len(a) == 1:\n",
    "        return a\n",
    "    else:\n",
    "        for x in a:\n",
    "            if x > a[0]:\n",
    "                right.append(x)\n",
    "            elif x < a[0]:\n",
    "                left.append(x)\n",
    "        return qs(left) + [a[0]] + qs(right)\n",
    "\n",
    "print qs([5,4,3,2,1,6])"
   ]
  },
  {
   "cell_type": "markdown",
   "metadata": {},
   "source": [
    "quicksort - list comprehension"
   ]
  },
  {
   "cell_type": "code",
   "execution_count": 64,
   "metadata": {
    "collapsed": false
   },
   "outputs": [
    {
     "name": "stdout",
     "output_type": "stream",
     "text": [
      "[1, 2, 3, 4, 5, 6]\n"
     ]
    }
   ],
   "source": [
    "def qs(a):\n",
    "    if len(a) == 0 or len(a) == 1:\n",
    "        return a\n",
    "    else:\n",
    "        return qs([x for x in a if x<a[0]]) + [a[0]] + qs([x for x in a if x>a[0]])\n",
    "\n",
    "print qs([5,4,3,2,1,6])"
   ]
  },
  {
   "cell_type": "markdown",
   "metadata": {},
   "source": [
    "Numpy"
   ]
  },
  {
   "cell_type": "code",
   "execution_count": 74,
   "metadata": {
    "collapsed": false
   },
   "outputs": [],
   "source": [
    "import numpy as np\n",
    "?np.linspace()"
   ]
  },
  {
   "cell_type": "code",
   "execution_count": 75,
   "metadata": {
    "collapsed": false
   },
   "outputs": [
    {
     "name": "stdout",
     "output_type": "stream",
     "text": [
      "The slowest run took 26.91 times longer than the fastest. This could mean that an intermediate result is being cached \n",
      "100000 loops, best of 3: 3.91 µs per loop\n"
     ]
    }
   ],
   "source": [
    "n = 100\n",
    "l = 1\n",
    "r = 2\n",
    "%timeit np.linspace(l,r,num=n)"
   ]
  },
  {
   "cell_type": "code",
   "execution_count": 76,
   "metadata": {
    "collapsed": false
   },
   "outputs": [
    {
     "name": "stdout",
     "output_type": "stream",
     "text": [
      "The slowest run took 12.30 times longer than the fastest. This could mean that an intermediate result is being cached \n",
      "100000 loops, best of 3: 2.69 µs per loop\n"
     ]
    }
   ],
   "source": [
    "a = []\n",
    "n = 100\n",
    "l = 1\n",
    "r = 2\n",
    "for i in xrange(n):\n",
    "    a.append(float(i)*(r-l)/(n-1)+l)\n",
    "%timeit np.array(a)"
   ]
  },
  {
   "cell_type": "code",
   "execution_count": 77,
   "metadata": {
    "collapsed": false
   },
   "outputs": [
    {
     "name": "stdout",
     "output_type": "stream",
     "text": [
      "10000 loops, best of 3: 30.4 µs per loop\n"
     ]
    }
   ],
   "source": [
    "n = 100\n",
    "l = 1\n",
    "r = 2\n",
    "%timeit np.array([float(x)*(r-l)/(n-1)+l for x in range(n)])"
   ]
  },
  {
   "cell_type": "code",
   "execution_count": 78,
   "metadata": {
    "collapsed": false
   },
   "outputs": [
    {
     "name": "stdout",
     "output_type": "stream",
     "text": [
      "The slowest run took 7.53 times longer than the fastest. This could mean that an intermediate result is being cached \n",
      "10000 loops, best of 3: 58.5 µs per loop\n",
      "1000 loops, best of 3: 869 µs per loop\n"
     ]
    }
   ],
   "source": [
    "%timeit np.arange(0, 100000)\n",
    "%timeit range(0, 100000)"
   ]
  },
  {
   "cell_type": "markdown",
   "metadata": {},
   "source": [
    "Matplotlib"
   ]
  },
  {
   "cell_type": "code",
   "execution_count": 79,
   "metadata": {
    "collapsed": true
   },
   "outputs": [],
   "source": [
    "import numpy as np\n",
    "import matplotlib.pyplot as plt"
   ]
  },
  {
   "cell_type": "code",
   "execution_count": 96,
   "metadata": {
    "collapsed": false
   },
   "outputs": [
    {
     "data": {
      "image/png": "[encoded data removed]",
      "text/plain": [
       "<matplotlib.figure.Figure at 0x7ffcfd0>"
      ]
     },
     "metadata": {},
     "output_type": "display_data"
    }
   ],
   "source": [
    "%matplotlib inline\n",
    "x = np.arange(-1,1,0.001)\n",
    "y1 = x\n",
    "y2 = x**2\n",
    "y3 = x**3\n",
    "plt.figure(1)\n",
    "plt.subplot(121)\n",
    "plt.plot(x,y1,label = '$y = x$')\n",
    "plt.plot(x,y2,label = '$y = x^2$')\n",
    "plt.plot(x,y3,label = '$y = x^3$')\n",
    "plt.xlabel('$x$')\n",
    "plt.ylabel('$y = function(x)$')\n",
    "plt.legend()\n",
    "plt.subplot(122)\n",
    "plt.plot(x,y1,label = '$y = x$')\n",
    "plt.plot(x,y2,label = '$y = x^2$')\n",
    "plt.savefig('graphs.png')\n",
    "plt.show()"
   ]
  },
  {
   "cell_type": "markdown",
   "metadata": {},
   "source": [
    "SciPy"
   ]
  },
  {
   "cell_type": "code",
   "execution_count": 97,
   "metadata": {
    "collapsed": true
   },
   "outputs": [],
   "source": [
    "m = np.random.randn(5,5)"
   ]
  },
  {
   "cell_type": "code",
   "execution_count": 106,
   "metadata": {
    "collapsed": false
   },
   "outputs": [
    {
     "name": "stdout",
     "output_type": "stream",
     "text": [
      "[ 2.97431307+0.j          1.32038563+1.53210038j  1.32038563-1.53210038j\n",
      " -1.37299940+0.26458792j -1.37299940-0.26458792j] [[-0.02100747+0.j          0.15286354+0.29635681j  0.15286354-0.29635681j\n",
      "  -0.27216288+0.39487675j -0.27216288-0.39487675j]\n",
      " [-0.69727794+0.j         -0.24313987+0.03495234j -0.24313987-0.03495234j\n",
      "  -0.16341575+0.27085319j -0.16341575-0.27085319j]\n",
      " [-0.05758451+0.j          0.02524001+0.12856943j  0.02524001-0.12856943j\n",
      "   0.77258790+0.j          0.77258790-0.j        ]\n",
      " [ 0.42681754+0.j          0.32210490-0.4776451j   0.32210490+0.4776451j\n",
      "  -0.06171308-0.13720859j -0.06171308+0.13720859j]\n",
      " [-0.57260193+0.j          0.69238945+0.j          0.69238945-0.j\n",
      "  -0.00495353-0.22445995j -0.00495353+0.22445995j]]\n"
     ]
    }
   ],
   "source": [
    "w, v = np.linalg.eig(m)\n",
    "print w, v"
   ]
  },
  {
   "cell_type": "code",
   "execution_count": 116,
   "metadata": {
    "collapsed": false
   },
   "outputs": [
    {
     "name": "stdout",
     "output_type": "stream",
     "text": [
      "0.0\n",
      "0.0\n",
      "0.0\n",
      "0.0\n",
      "0.0\n"
     ]
    }
   ],
   "source": [
    "for i in xrange(5):\n",
    "    print round(np.linalg.norm(np.dot(m[:,:],v[:,i]) - w[i]*v[:,i], ord = 2),2)"
   ]
  }
 ],
 "metadata": {
  "kernelspec": {
   "display_name": "Python 2",
   "language": "python",
   "name": "python2"
  },
  "language_info": {
   "codemirror_mode": {
    "name": "ipython",
    "version": 2
   },
   "file_extension": ".py",
   "mimetype": "text/x-python",
   "name": "python",
   "nbconvert_exporter": "python",
   "pygments_lexer": "ipython2",
   "version": "2.7.11"
  }
 },
 "nbformat": 4,
 "nbformat_minor": 0
}
